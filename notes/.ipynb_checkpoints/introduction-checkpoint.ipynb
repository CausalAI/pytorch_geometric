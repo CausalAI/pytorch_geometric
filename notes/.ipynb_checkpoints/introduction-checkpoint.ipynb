{
 "cells": [
  {
   "cell_type": "markdown",
   "metadata": {},
   "source": [
    "$$\n",
    "\\def\\CC{\\bf C}\n",
    "\\def\\QQ{\\bf Q}\n",
    "\\def\\RR{\\bf R}\n",
    "\\def\\ZZ{\\bf Z}\n",
    "\\def\\NN{\\bf N}\n",
    "$$\n",
    "# Introduction by Example\n",
    "\n",
    "We shortly introduce the fundamental concepts of PyTorch Geometric\n",
    "through self-contained examples. At its core, PyTorch Geometric provides\n",
    "the following main features:\n",
    "\n",
    "## Data Handling of Graphs\n",
    "\n",
    "A graph is used to model pairwise relations (edges) between objects\n",
    "(nodes). A single graph in PyTorch Geometric is described by an instance\n",
    "of `torch_geometric.data.Data`, which holds the following attributes by\n",
    "default:\n",
    "\n",
    "-   `data.x` : Node feature matrix with shape\n",
    "    `[num_nodes, num_node_features]`\n",
    "-   `data.edge_index` : Graph connectivity in COO format with shape\n",
    "    `[2, num_edges]` and type `torch.long`\n",
    "-   `data.edge_attr` : Edge feature matrix with shape\n",
    "    `[num_edges, num_edge_features]`\n",
    "-   `data.y` : Target to train against (may have arbitrary shape),\n",
    "    *e.g.*, node-level targets of shape `[num_nodes, *]` or graph-level\n",
    "    targets of shape `[1, *]`\n",
    "-   `data.pos` : Node position matrix with shape\n",
    "    `[num_nodes, num_dimensions]`\n",
    "\n",
    "None of these attributes is required. In fact, the `Data` object is not\n",
    "even restricted to these attributes. We can, *e.g.*, extend it by\n",
    "`data.face` to save the connectivity of triangles from a 3D mesh in a\n",
    "tensor with shape `[3, num_faces]` and type `torch.long`.\n",
    "\n",
    "Note\n",
    "\n",
    "PyTorch and `torchvision` define an example as a tuple of an image and a\n",
    "target. We omit this notation in PyTorch Geometric to allow for various\n",
    "data structures in a clean and understandable way.\n",
    "\n",
    "We show a simple example of an unweighted and undirected graph with\n",
    "three nodes and four edges. Each node contains exactly one feature:"
   ]
  },
  {
   "cell_type": "code",
   "execution_count": null,
   "metadata": {},
   "outputs": [],
   "source": [
    "import torch\n",
    "from torch_geometric.data import Data\n",
    "\n",
    "edge_index = torch.tensor([[0, 1, 1, 2],\n",
    "                           [1, 0, 2, 1]], dtype=torch.long)\n",
    "x = torch.tensor([[-1], [0], [1]], dtype=torch.float)\n",
    "\n",
    "data = Data(x=x, edge_index=edge_index)"
   ]
  },
  {
   "cell_type": "code",
   "execution_count": null,
   "metadata": {},
   "outputs": [],
   "source": [
    "Data(edge_index=[2, 4], x=[3, 1])"
   ]
  },
  {
   "cell_type": "markdown",
   "metadata": {},
   "source": [
    "<img src=\"../_figures/graph.svg\" alt=\"image\" class=\"align-center\" width=\"300\" />\n",
    "\n",
    "Note that `edge_index`, *i.e.* the tensor defining the source and target\n",
    "nodes of all edges, is NOT a list of index tuples. If you want to write\n",
    "your indices this way, you should transpose and call `contiguous` on it\n",
    "before passing them to the data constructor:"
   ]
  },
  {
   "cell_type": "code",
   "execution_count": null,
   "metadata": {},
   "outputs": [],
   "source": [
    "import torch\n",
    "from torch_geometric.data import Data\n",
    "\n",
    "edge_index = torch.tensor([[0, 1],\n",
    "                           [1, 0],\n",
    "                           [1, 2],\n",
    "                           [2, 1]], dtype=torch.long)\n",
    "x = torch.tensor([[-1], [0], [1]], dtype=torch.float)\n",
    "\n",
    "data = Data(x=x, edge_index=edge_index.t().contiguous())"
   ]
  },
  {
   "cell_type": "code",
   "execution_count": null,
   "metadata": {},
   "outputs": [],
   "source": [
    "Data(edge_index=[2, 4], x=[3, 1])"
   ]
  },
  {
   "cell_type": "markdown",
   "metadata": {},
   "source": [
    "Although the graph has only two edges, we need to define four index\n",
    "tuples to account for both directions of a edge.\n",
    "\n",
    "Note\n",
    "\n",
    "You can print out your data object anytime and receive a short\n",
    "information about its attributes and their shapes.\n",
    "\n",
    "Besides of being a plain old python object, `torch_geometric.data.Data`\n",
    "provides a number of utility functions, *e.g.*:"
   ]
  },
  {
   "cell_type": "code",
   "execution_count": null,
   "metadata": {},
   "outputs": [],
   "source": [
    "print(data.keys)"
   ]
  },
  {
   "cell_type": "code",
   "execution_count": null,
   "metadata": {},
   "outputs": [],
   "source": [
    "['x', 'edge_index']"
   ]
  },
  {
   "cell_type": "code",
   "execution_count": null,
   "metadata": {},
   "outputs": [],
   "source": [
    "print(data['x'])"
   ]
  },
  {
   "cell_type": "code",
   "execution_count": null,
   "metadata": {},
   "outputs": [
    {
     "data": {
      "text/plain": [
       "            [0.0],\n",
       "            [1.0]])\n",
       "\n",
       "for key, item in data:\n",
       "    print(\"{} found in data\".format(key))"
      ]
     },
     "execution_count": 1,
     "metadata": {},
     "output_type": "execute_result"
    }
   ],
   "source": [
    "tensor([[-1.0],"
   ]
  },
  {
   "cell_type": "code",
   "execution_count": null,
   "metadata": {},
   "outputs": [],
   "source": [
    "x found in data\n",
    "edge_index found in data"
   ]
  },
  {
   "cell_type": "code",
   "execution_count": null,
   "metadata": {},
   "outputs": [],
   "source": [
    "'edge_attr' in data"
   ]
  },
  {
   "cell_type": "code",
   "execution_count": null,
   "metadata": {},
   "outputs": [],
   "source": [
    "False"
   ]
  },
  {
   "cell_type": "code",
   "execution_count": null,
   "metadata": {},
   "outputs": [],
   "source": [
    "data.num_nodes"
   ]
  },
  {
   "cell_type": "code",
   "execution_count": null,
   "metadata": {},
   "outputs": [],
   "source": [
    "3"
   ]
  },
  {
   "cell_type": "code",
   "execution_count": null,
   "metadata": {},
   "outputs": [],
   "source": [
    "data.num_edges"
   ]
  },
  {
   "cell_type": "code",
   "execution_count": null,
   "metadata": {},
   "outputs": [],
   "source": [
    "4"
   ]
  },
  {
   "cell_type": "code",
   "execution_count": null,
   "metadata": {},
   "outputs": [],
   "source": [
    "data.num_node_features"
   ]
  },
  {
   "cell_type": "code",
   "execution_count": null,
   "metadata": {},
   "outputs": [],
   "source": [
    "1"
   ]
  },
  {
   "cell_type": "code",
   "execution_count": null,
   "metadata": {},
   "outputs": [],
   "source": [
    "data.contains_isolated_nodes()"
   ]
  },
  {
   "cell_type": "code",
   "execution_count": null,
   "metadata": {},
   "outputs": [],
   "source": [
    "False"
   ]
  },
  {
   "cell_type": "code",
   "execution_count": null,
   "metadata": {},
   "outputs": [],
   "source": [
    "data.contains_self_loops()"
   ]
  },
  {
   "cell_type": "code",
   "execution_count": null,
   "metadata": {},
   "outputs": [],
   "source": [
    "False"
   ]
  },
  {
   "cell_type": "code",
   "execution_count": null,
   "metadata": {},
   "outputs": [],
   "source": [
    "data.is_directed()"
   ]
  },
  {
   "cell_type": "code",
   "execution_count": null,
   "metadata": {},
   "outputs": [],
   "source": [
    "False"
   ]
  },
  {
   "cell_type": "code",
   "execution_count": null,
   "metadata": {},
   "outputs": [],
   "source": [
    "# Transfer data object to GPU.\n",
    "device = torch.device('cuda')\n",
    "data = data.to(device)"
   ]
  },
  {
   "cell_type": "markdown",
   "metadata": {},
   "source": [
    "You can find a complete list of all methods at\n",
    "`torch_geometric.data.Data`.\n",
    "\n",
    "## Common Benchmark Datasets\n",
    "\n",
    "PyTorch Geometric contains a large number of common benchmark datasets,\n",
    "*e.g.* all Planetoid datasets (Cora, Citeseer, Pubmed), all graph\n",
    "classification datasets from <http://graphkernels.cs.tu-dortmund.de/>\n",
    "and their [cleaned versions](https://github.com/nd7141/graph_datasets),\n",
    "the QM7 and QM9 dataset, and a handful of 3D mesh/point cloud datasets\n",
    "like FAUST, ModelNet10/40 and ShapeNet.\n",
    "\n",
    "Initializing a dataset is straightforward. An initialization of a\n",
    "dataset will automatically download its raw files and process them to\n",
    "the previously described `Data` format. *E.g.*, to load the ENZYMES\n",
    "dataset (consisting of 600 graphs within 6 classes), type:"
   ]
  },
  {
   "cell_type": "code",
   "execution_count": null,
   "metadata": {},
   "outputs": [],
   "source": [
    "from torch_geometric.datasets import TUDataset\n",
    "\n",
    "dataset = TUDataset(root='/tmp/ENZYMES', name='ENZYMES')"
   ]
  },
  {
   "cell_type": "code",
   "execution_count": null,
   "metadata": {},
   "outputs": [],
   "source": [
    "ENZYMES(600)"
   ]
  },
  {
   "cell_type": "code",
   "execution_count": null,
   "metadata": {},
   "outputs": [],
   "source": [
    "len(dataset)"
   ]
  },
  {
   "cell_type": "code",
   "execution_count": null,
   "metadata": {},
   "outputs": [],
   "source": [
    "600"
   ]
  },
  {
   "cell_type": "code",
   "execution_count": null,
   "metadata": {},
   "outputs": [],
   "source": [
    "dataset.num_classes"
   ]
  },
  {
   "cell_type": "code",
   "execution_count": null,
   "metadata": {},
   "outputs": [],
   "source": [
    "6"
   ]
  },
  {
   "cell_type": "code",
   "execution_count": null,
   "metadata": {},
   "outputs": [],
   "source": [
    "dataset.num_node_features"
   ]
  },
  {
   "cell_type": "code",
   "execution_count": null,
   "metadata": {},
   "outputs": [],
   "source": [
    "3"
   ]
  },
  {
   "cell_type": "markdown",
   "metadata": {},
   "source": [
    "We now have access to all 600 graphs in the dataset:"
   ]
  },
  {
   "cell_type": "code",
   "execution_count": null,
   "metadata": {},
   "outputs": [],
   "source": [
    "data = dataset[0]"
   ]
  },
  {
   "cell_type": "code",
   "execution_count": null,
   "metadata": {},
   "outputs": [],
   "source": [
    "Data(edge_index=[2, 168], x=[37, 3], y=[1])"
   ]
  },
  {
   "cell_type": "code",
   "execution_count": null,
   "metadata": {},
   "outputs": [],
   "source": [
    "data.is_undirected()"
   ]
  },
  {
   "cell_type": "code",
   "execution_count": null,
   "metadata": {},
   "outputs": [],
   "source": [
    "True"
   ]
  },
  {
   "cell_type": "markdown",
   "metadata": {},
   "source": [
    "We can see that the first graph in the dataset contains 37 nodes, each\n",
    "one having 3 features. There are 168/2 = 84 undirected edges and the\n",
    "graph is assigned to exactly one class. In addition, the data object is\n",
    "holding exactly one graph-level target.\n",
    "\n",
    "We can even use slices, long or byte tensors to split the dataset.\n",
    "*E.g.*, to create a 90/10 train/test split, type:"
   ]
  },
  {
   "cell_type": "code",
   "execution_count": null,
   "metadata": {},
   "outputs": [],
   "source": [
    "train_dataset = dataset[:540]"
   ]
  },
  {
   "cell_type": "code",
   "execution_count": null,
   "metadata": {},
   "outputs": [],
   "source": [
    "ENZYMES(540)"
   ]
  },
  {
   "cell_type": "code",
   "execution_count": null,
   "metadata": {},
   "outputs": [],
   "source": [
    "test_dataset = dataset[540:]"
   ]
  },
  {
   "cell_type": "code",
   "execution_count": null,
   "metadata": {},
   "outputs": [],
   "source": [
    "ENZYMES(60)"
   ]
  },
  {
   "cell_type": "markdown",
   "metadata": {},
   "source": [
    "If you are unsure whether the dataset is already shuffled before you\n",
    "split, you can randomly permutate it by running:"
   ]
  },
  {
   "cell_type": "code",
   "execution_count": null,
   "metadata": {},
   "outputs": [],
   "source": [
    "dataset = dataset.shuffle()"
   ]
  },
  {
   "cell_type": "code",
   "execution_count": null,
   "metadata": {},
   "outputs": [],
   "source": [
    "ENZYMES(600)"
   ]
  },
  {
   "cell_type": "markdown",
   "metadata": {},
   "source": [
    "This is equivalent of doing:"
   ]
  },
  {
   "cell_type": "code",
   "execution_count": null,
   "metadata": {},
   "outputs": [],
   "source": [
    "perm = torch.randperm(len(dataset))\n",
    "dataset = dataset[perm]\n",
    ">> ENZYMES(600)"
   ]
  },
  {
   "cell_type": "markdown",
   "metadata": {},
   "source": [
    "Let's try another one! Let's download Cora, the standard benchmark\n",
    "dataset for semi-supervised graph node classification:"
   ]
  },
  {
   "cell_type": "code",
   "execution_count": null,
   "metadata": {},
   "outputs": [],
   "source": [
    "from torch_geometric.datasets import Planetoid\n",
    "\n",
    "dataset = Planetoid(root='/tmp/Cora', name='Cora')"
   ]
  },
  {
   "cell_type": "code",
   "execution_count": null,
   "metadata": {},
   "outputs": [],
   "source": [
    "Cora()"
   ]
  },
  {
   "cell_type": "code",
   "execution_count": null,
   "metadata": {},
   "outputs": [],
   "source": [
    "len(dataset)"
   ]
  },
  {
   "cell_type": "code",
   "execution_count": null,
   "metadata": {},
   "outputs": [],
   "source": [
    "1"
   ]
  },
  {
   "cell_type": "code",
   "execution_count": null,
   "metadata": {},
   "outputs": [],
   "source": [
    "dataset.num_classes"
   ]
  },
  {
   "cell_type": "code",
   "execution_count": null,
   "metadata": {},
   "outputs": [],
   "source": [
    "7"
   ]
  },
  {
   "cell_type": "code",
   "execution_count": null,
   "metadata": {},
   "outputs": [],
   "source": [
    "dataset.num_node_features"
   ]
  },
  {
   "cell_type": "code",
   "execution_count": null,
   "metadata": {},
   "outputs": [],
   "source": [
    "1433"
   ]
  },
  {
   "cell_type": "markdown",
   "metadata": {},
   "source": [
    "Here, the dataset contains only a single, undirected citation graph:"
   ]
  },
  {
   "cell_type": "code",
   "execution_count": null,
   "metadata": {},
   "outputs": [],
   "source": [
    "data = dataset[0]"
   ]
  },
  {
   "cell_type": "code",
   "execution_count": null,
   "metadata": {},
   "outputs": [
    {
     "data": {
      "text/plain": [
       "         train_mask=[2708], val_mask=[2708], x=[2708, 1433], y=[2708])\n",
       "\n",
       "data.is_undirected()"
      ]
     },
     "execution_count": 1,
     "metadata": {},
     "output_type": "execute_result"
    }
   ],
   "source": [
    "Data(edge_index=[2, 10556], test_mask=[2708],"
   ]
  },
  {
   "cell_type": "code",
   "execution_count": null,
   "metadata": {},
   "outputs": [],
   "source": [
    "True"
   ]
  },
  {
   "cell_type": "code",
   "execution_count": null,
   "metadata": {},
   "outputs": [],
   "source": [
    "data.train_mask.sum().item()"
   ]
  },
  {
   "cell_type": "code",
   "execution_count": null,
   "metadata": {},
   "outputs": [],
   "source": [
    "140"
   ]
  },
  {
   "cell_type": "code",
   "execution_count": null,
   "metadata": {},
   "outputs": [],
   "source": [
    "data.val_mask.sum().item()"
   ]
  },
  {
   "cell_type": "code",
   "execution_count": null,
   "metadata": {},
   "outputs": [],
   "source": [
    "500"
   ]
  },
  {
   "cell_type": "code",
   "execution_count": null,
   "metadata": {},
   "outputs": [],
   "source": [
    "data.test_mask.sum().item()"
   ]
  },
  {
   "cell_type": "code",
   "execution_count": null,
   "metadata": {},
   "outputs": [],
   "source": [
    "1000"
   ]
  },
  {
   "cell_type": "markdown",
   "metadata": {},
   "source": [
    "This time, the `Data` objects holds a label for each node, and\n",
    "additional attributes: `train_mask`, `val_mask` and `test_mask` :\n",
    "\n",
    "-   `train_mask` denotes against which nodes to train (140 nodes)\n",
    "-   `val_mask` denotes which nodes to use for validation, *e.g.*, to\n",
    "    perform early stopping (500 nodes)\n",
    "-   `test_mask` denotes against which nodes to test (1000 nodes)\n",
    "\n",
    "## Mini-batches\n",
    "\n",
    "Neural networks are usually trained in a batch-wise fashion. PyTorch\n",
    "Geometric achieves parallelization over a mini-batch by creating sparse\n",
    "block diagonal adjacency matrices (defined by `edge_index` and\n",
    "`edge_attr`) and concatenating feature and target matrices in the node\n",
    "dimension. This composition allows differing number of nodes and edges\n",
    "over examples in one batch:\n",
    "\n",
    "$$\\begin{aligned}\n",
    "\\mathbf{A} = \\begin{bmatrix} \\mathbf{A}_1 & & \\\\ & \\ddots & \\\\ & & \\mathbf{A}_n \\end{bmatrix}, \\qquad \\mathbf{X} = \\begin{bmatrix} \\mathbf{X}_1 \\\\ \\vdots \\\\ \\mathbf{X}_n \\end{bmatrix}, \\qquad \\mathbf{Y} = \\begin{bmatrix} \\mathbf{Y}_1 \\\\ \\vdots \\\\ \\mathbf{Y}_n \\end{bmatrix}\n",
    "\\end{aligned}$$\n",
    "\n",
    "PyTorch Geometric contains its own `torch_geometric.data.DataLoader`,\n",
    "which already takes care of this concatenation process. Let's learn\n",
    "about it in an example:"
   ]
  },
  {
   "cell_type": "code",
   "execution_count": null,
   "metadata": {},
   "outputs": [],
   "source": [
    "from torch_geometric.datasets import TUDataset\n",
    "from torch_geometric.data import DataLoader\n",
    "\n",
    "dataset = TUDataset(root='/tmp/ENZYMES', name='ENZYMES', use_node_attr=True)\n",
    "loader = DataLoader(dataset, batch_size=32, shuffle=True)\n",
    "\n",
    "for batch in loader:\n",
    "    batch\n",
    "    >>> Batch(batch=[1082], edge_index=[2, 4066], x=[1082, 21], y=[32])\n",
    "\n",
    "    batch.num_graphs\n",
    "    >>> 32"
   ]
  },
  {
   "cell_type": "markdown",
   "metadata": {},
   "source": [
    "`torch_geometric.data.Batch` inherits from `torch_geometric.data.Data`\n",
    "and contains an additional attribute: `batch`.\n",
    "\n",
    "`batch` is a column vector which maps each node to its respective graph\n",
    "in the batch:\n",
    "\n",
    "$$\\mathrm{batch} = {\\begin{bmatrix} 0 & \\cdots & 0 & 1 & \\cdots & n - 2 & n -1 & \\cdots & n - 1 \\end{bmatrix}}^{\\top}$$\n",
    "\n",
    "You can use it to, *e.g.*, average node features in the node dimension\n",
    "for each graph individually:"
   ]
  },
  {
   "cell_type": "code",
   "execution_count": null,
   "metadata": {},
   "outputs": [],
   "source": [
    "from torch_scatter import scatter_mean\n",
    "from torch_geometric.datasets import TUDataset\n",
    "from torch_geometric.data import DataLoader\n",
    "\n",
    "dataset = TUDataset(root='/tmp/ENZYMES', name='ENZYMES', use_node_attr=True)\n",
    "loader = DataLoader(dataset, batch_size=32, shuffle=True)\n",
    "\n",
    "for data in loader:\n",
    "    data\n",
    "    >>> Batch(batch=[1082], edge_index=[2, 4066], x=[1082, 21], y=[32])\n",
    "\n",
    "    data.num_graphs\n",
    "    >>> 32\n",
    "\n",
    "    x = scatter_mean(data.x, data.batch, dim=0)\n",
    "    x.size()\n",
    "    >>> torch.Size([32, 21])"
   ]
  },
  {
   "cell_type": "markdown",
   "metadata": {},
   "source": [
    "You can learn more about the internal batching procedure of PyTorch\n",
    "Geometric, *e.g.*, how to modify its behaviour,\n",
    "[here](https://pytorch-geometric.readthedocs.io/en/latest/notes/batching.html).\n",
    "For documentation of scatter operations, we refer the interested reader\n",
    "to the `torch-scatter`\n",
    "[documentation](https://pytorch-scatter.readthedocs.io).\n",
    "\n",
    "## Data Transforms\n",
    "\n",
    "Transforms are a common way in `torchvision` to transform images and\n",
    "perform augmentation. PyTorch Geometric comes with its own transforms,\n",
    "which expect a `Data` object as input and return a new transformed\n",
    "`Data` object. Transforms can be chained together using\n",
    "`torch_geometric.transforms.Compose` and are applied before saving a\n",
    "processed dataset on disk (`pre_transform`) or before accessing a graph\n",
    "in a dataset (`transform`).\n",
    "\n",
    "Let's look at an example, where we apply transforms on the ShapeNet\n",
    "dataset (containing 17,000 3D shape point clouds and per point labels\n",
    "from 16 shape categories)."
   ]
  },
  {
   "cell_type": "code",
   "execution_count": null,
   "metadata": {},
   "outputs": [],
   "source": [
    "from torch_geometric.datasets import ShapeNet\n",
    "\n",
    "dataset = ShapeNet(root='/tmp/ShapeNet', categories=['Airplane'])\n",
    "\n",
    "dataset[0]"
   ]
  },
  {
   "cell_type": "code",
   "execution_count": null,
   "metadata": {},
   "outputs": [],
   "source": [
    "Data(pos=[2518, 3], y=[2518])"
   ]
  },
  {
   "cell_type": "markdown",
   "metadata": {},
   "source": [
    "We can convert the point cloud dataset into a graph dataset by\n",
    "generating nearest neighbor graphs from the point clouds via transforms:"
   ]
  },
  {
   "cell_type": "code",
   "execution_count": null,
   "metadata": {},
   "outputs": [],
   "source": [
    "import torch_geometric.transforms as T\n",
    "from torch_geometric.datasets import ShapeNet\n",
    "\n",
    "dataset = ShapeNet(root='/tmp/ShapeNet', categories=['Airplane'],\n",
    "                    pre_transform=T.KNNGraph(k=6))\n",
    "\n",
    "dataset[0]"
   ]
  },
  {
   "cell_type": "code",
   "execution_count": null,
   "metadata": {},
   "outputs": [],
   "source": [
    "Data(edge_index=[2, 15108], pos=[2518, 3], y=[2518])"
   ]
  },
  {
   "cell_type": "markdown",
   "metadata": {},
   "source": [
    "Note\n",
    "\n",
    "We use the `pre_transform` to convert the data before saving it to disk\n",
    "(leading to faster loading times). Note that the next time the dataset\n",
    "is initialized it will already contain graph edges, even if you do not\n",
    "pass any transform.\n",
    "\n",
    "In addition, we can use the `transform` argument to randomly augment a\n",
    "`Data` object, *e.g.* translating each node position by a small number:"
   ]
  },
  {
   "cell_type": "code",
   "execution_count": null,
   "metadata": {},
   "outputs": [],
   "source": [
    "import torch_geometric.transforms as T\n",
    "from torch_geometric.datasets import ShapeNet\n",
    "\n",
    "dataset = ShapeNet(root='/tmp/ShapeNet', categories=['Airplane'],\n",
    "                    pre_transform=T.KNNGraph(k=6),\n",
    "                    transform=T.RandomTranslate(0.01))\n",
    "\n",
    "dataset[0]"
   ]
  },
  {
   "cell_type": "code",
   "execution_count": null,
   "metadata": {},
   "outputs": [],
   "source": [
    "Data(edge_index=[2, 15108], pos=[2518, 3], y=[2518])"
   ]
  },
  {
   "cell_type": "markdown",
   "metadata": {},
   "source": [
    "You can find a complete list of all implemented transforms at\n",
    "`torch_geometric.transforms`.\n",
    "\n",
    "## Learning Methods on Graphs\n",
    "\n",
    "After learning about data handling, datasets, loader and transforms in\n",
    "PyTorch Geometric, it's time to implement our first graph neural\n",
    "network!\n",
    "\n",
    "We will use a simple GCN layer and replicate the experiments on the Cora\n",
    "citation dataset. For a high-level explanation on GCN, have a look at\n",
    "its [blog post](http://tkipf.github.io/graph-convolutional-networks/).\n",
    "\n",
    "We first need to load the Cora dataset:"
   ]
  },
  {
   "cell_type": "code",
   "execution_count": null,
   "metadata": {},
   "outputs": [],
   "source": [
    "from torch_geometric.datasets import Planetoid\n",
    "\n",
    "dataset = Planetoid(root='/tmp/Cora', name='Cora')"
   ]
  },
  {
   "cell_type": "code",
   "execution_count": null,
   "metadata": {},
   "outputs": [],
   "source": [
    "Cora()"
   ]
  },
  {
   "cell_type": "markdown",
   "metadata": {},
   "source": [
    "Note that we do not need to use transforms or a dataloader. Now let's\n",
    "implement a two-layer GCN:"
   ]
  },
  {
   "cell_type": "code",
   "execution_count": null,
   "metadata": {},
   "outputs": [],
   "source": [
    "import torch\n",
    "import torch.nn.functional as F\n",
    "from torch_geometric.nn import GCNConv\n",
    "\n",
    "class Net(torch.nn.Module):\n",
    "    def __init__(self):\n",
    "        super(Net, self).__init__()\n",
    "        self.conv1 = GCNConv(dataset.num_node_features, 16)\n",
    "        self.conv2 = GCNConv(16, dataset.num_classes)\n",
    "\n",
    "    def forward(self, data):\n",
    "        x, edge_index = data.x, data.edge_index\n",
    "\n",
    "        x = self.conv1(x, edge_index)\n",
    "        x = F.relu(x)\n",
    "        x = F.dropout(x, training=self.training)\n",
    "        x = self.conv2(x, edge_index)\n",
    "\n",
    "        return F.log_softmax(x, dim=1)"
   ]
  },
  {
   "cell_type": "markdown",
   "metadata": {},
   "source": [
    "The constructor defines two `GCNConv` layers which get called in the\n",
    "forward pass of our network. Note that the non-linearity is not\n",
    "integrated in the `conv` calls and hence needs to be applied afterwards\n",
    "(something which is consistent accross all operators in PyTorch\n",
    "Geometric). Here, we chose to use ReLU as our intermediate non-linearity\n",
    "between and finally output a softmax distribution over the number of\n",
    "classes. Let's train this model on the train nodes for 200 epochs:"
   ]
  },
  {
   "cell_type": "code",
   "execution_count": null,
   "metadata": {},
   "outputs": [],
   "source": [
    "device = torch.device('cuda' if torch.cuda.is_available() else 'cpu')\n",
    "model = Net().to(device)\n",
    "data = dataset[0].to(device)\n",
    "optimizer = torch.optim.Adam(model.parameters(), lr=0.01, weight_decay=5e-4)\n",
    "\n",
    "model.train()\n",
    "for epoch in range(200):\n",
    "    optimizer.zero_grad()\n",
    "    out = model(data)\n",
    "    loss = F.nll_loss(out[data.train_mask], data.y[data.train_mask])\n",
    "    loss.backward()\n",
    "    optimizer.step()"
   ]
  },
  {
   "cell_type": "markdown",
   "metadata": {},
   "source": [
    "Finally we can evaluate our model on the test nodes:"
   ]
  },
  {
   "cell_type": "code",
   "execution_count": null,
   "metadata": {},
   "outputs": [],
   "source": [
    "model.eval()\n",
    "_, pred = model(data).max(dim=1)\n",
    "correct = float (pred[data.test_mask].eq(data.y[data.test_mask]).sum().item())\n",
    "acc = correct / data.test_mask.sum().item()\n",
    "print('Accuracy: {:.4f}'.format(acc))"
   ]
  },
  {
   "cell_type": "code",
   "execution_count": null,
   "metadata": {},
   "outputs": [],
   "source": [
    "Accuracy: 0.8150"
   ]
  },
  {
   "cell_type": "markdown",
   "metadata": {},
   "source": [
    "That is all it takes to implement your first graph neural network. The\n",
    "easiest way to learn more about graph convolution and pooling is to\n",
    "study the examples in the `examples/` directory and to browse\n",
    "`torch_geometric.nn`. Happy hacking!"
   ]
  }
 ],
 "metadata": {
  "kernelspec": {
   "display_name": "Python 3",
   "language": "python",
   "name": "python3"
  },
  "language_info": {
   "codemirror_mode": {
    "name": "ipython",
    "version": 3
   },
   "file_extension": ".py",
   "mimetype": "text/x-python",
   "name": "python",
   "nbconvert_exporter": "python",
   "pygments_lexer": "ipython3",
   "version": "3.7.4"
  },
  "toc": {
   "base_numbering": 1,
   "nav_menu": {},
   "number_sections": true,
   "sideBar": true,
   "skip_h1_title": false,
   "title_cell": "Table of Contents",
   "title_sidebar": "Contents",
   "toc_cell": false,
   "toc_position": {},
   "toc_section_display": true,
   "toc_window_display": true
  }
 },
 "nbformat": 4,
 "nbformat_minor": 2
}
